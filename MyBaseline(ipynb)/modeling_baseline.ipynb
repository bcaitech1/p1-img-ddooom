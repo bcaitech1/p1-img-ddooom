{
 "cells": [
  {
   "cell_type": "code",
   "execution_count": 1,
   "id": "warming-honor",
   "metadata": {
    "tags": []
   },
   "outputs": [],
   "source": [
    "# pip install albumentations"
   ]
  },
  {
   "cell_type": "code",
   "execution_count": 2,
   "id": "seasonal-arrangement",
   "metadata": {
    "tags": []
   },
   "outputs": [],
   "source": [
    "# pip install torchsummary"
   ]
  },
  {
   "cell_type": "code",
   "execution_count": 3,
   "id": "weird-litigation",
   "metadata": {
    "tags": []
   },
   "outputs": [],
   "source": [
    "# pip install ipywidgets "
   ]
  },
  {
   "cell_type": "code",
   "execution_count": 82,
   "id": "prescribed-greece",
   "metadata": {
    "collapsed": true,
    "jupyter": {
     "outputs_hidden": true
    },
    "tags": []
   },
   "outputs": [
    {
     "name": "stdout",
     "output_type": "stream",
     "text": [
      "Collecting efficientnet_pytorch\n",
      "  Downloading efficientnet_pytorch-0.7.0.tar.gz (20 kB)\n",
      "Requirement already satisfied: torch in /opt/conda/lib/python3.7/site-packages (from efficientnet_pytorch) (1.6.0)\n",
      "Requirement already satisfied: future in /opt/conda/lib/python3.7/site-packages (from torch->efficientnet_pytorch) (0.18.2)\n",
      "Requirement already satisfied: numpy in /opt/conda/lib/python3.7/site-packages (from torch->efficientnet_pytorch) (1.18.5)\n",
      "Building wheels for collected packages: efficientnet-pytorch\n",
      "  Building wheel for efficientnet-pytorch (setup.py) ... \u001b[?25ldone\n",
      "\u001b[?25h  Created wheel for efficientnet-pytorch: filename=efficientnet_pytorch-0.7.0-py3-none-any.whl size=16035 sha256=feb5eafbdc4208ece84f79734633a239c3acbeebfe2a1bc3d81d7c434323056c\n",
      "  Stored in directory: /opt/ml/.cache/pip/wheels/b7/cc/0d/41d384b0071c6f46e542aded5f8571700ace4f1eb3f1591c29\n",
      "Successfully built efficientnet-pytorch\n",
      "Installing collected packages: efficientnet-pytorch\n",
      "Successfully installed efficientnet-pytorch-0.7.0\n"
     ]
    }
   ],
   "source": [
    "# !pip install efficientnet_pytorch"
   ]
  },
  {
   "cell_type": "code",
   "execution_count": 1,
   "id": "saved-member",
   "metadata": {},
   "outputs": [
    {
     "name": "stdout",
     "output_type": "stream",
     "text": [
      "\u001b[32m[I 03:08:35.091 NotebookApp]\u001b[m Writing notebook server cookie secret to /opt/ml/.local/share/jupyter/runtime/notebook_cookie_secret\n",
      "\u001b[32m[I 03:08:35.290 NotebookApp]\u001b[m The port 8888 is already in use, trying another port.\n",
      "/opt/conda/lib/python3.7/site-packages/jupyter_server/transutils.py:13: FutureWarning: The alias `_()` will be deprecated. Use `_i18n()` instead.\n",
      "  warnings.warn(warn_msg, FutureWarning)\n",
      "\u001b[33m[W 2021-04-06 03:08:36.701 LabApp]\u001b[m 'iopub_data_rate_limit' has moved from NotebookApp to ServerApp. This config will be passed to ServerApp. Be sure to update your config before our next release.\n",
      "\u001b[33m[W 2021-04-06 03:08:36.701 LabApp]\u001b[m 'iopub_data_rate_limit' has moved from NotebookApp to ServerApp. This config will be passed to ServerApp. Be sure to update your config before our next release.\n",
      "\u001b[32m[I 2021-04-06 03:08:36.706 LabApp]\u001b[m JupyterLab extension loaded from /opt/conda/lib/python3.7/site-packages/jupyterlab\n",
      "\u001b[32m[I 2021-04-06 03:08:36.706 LabApp]\u001b[m JupyterLab application directory is /opt/conda/share/jupyter/lab\n",
      "\u001b[35m[C 03:08:36.710 NotebookApp]\u001b[m Running as root is not recommended. Use --allow-root to bypass.\n"
     ]
    }
   ],
   "source": [
    "!jupyter notebook --NotebookApp.iopub_data_rate_limit=1.0e10"
   ]
  },
  {
   "cell_type": "code",
   "execution_count": 3,
   "id": "alien-medium",
   "metadata": {
    "tags": []
   },
   "outputs": [],
   "source": [
    "import os\n",
    "import shutil\n",
    "from glob import glob\n",
    "\n",
    "from tqdm import tqdm\n",
    "import numpy as np\n",
    "import pandas as pd\n",
    "import matplotlib.pyplot as plt\n",
    "from PIL import Image\n",
    "\n",
    "from albumentations import *\n",
    "from albumentations.pytorch import ToTensorV2\n",
    "\n",
    "from sklearn.model_selection import train_test_split\n",
    "import torch\n",
    "import torch.nn as nn\n",
    "import torch.optim as optim\n",
    "import torch.nn.functional as F\n",
    "from torch.utils.data import Dataset, DataLoader\n",
    "import torchvision.models as models\n",
    "from torchsummary import summary\n",
    "import timm\n",
    "from efficientnet_pytorch import EfficientNet\n",
    "\n",
    "from sklearn.metrics import f1_score\n",
    "from sklearn.model_selection import StratifiedKFold"
   ]
  },
  {
   "cell_type": "code",
   "execution_count": 4,
   "id": "underlying-calculation",
   "metadata": {},
   "outputs": [],
   "source": [
    "import warnings\n",
    "warnings.filterwarnings(action='ignore')"
   ]
  },
  {
   "cell_type": "code",
   "execution_count": 5,
   "id": "unlikely-packet",
   "metadata": {},
   "outputs": [],
   "source": [
    "train_dir = 'input/data/train'\n",
    "eval_dir = 'input/data/eval'\n",
    "\n",
    "df_train = pd.read_csv(os.path.join(train_dir, 'train.csv')) \n",
    "df_eval = pd.read_csv(os.path.join(eval_dir, 'info.csv'))"
   ]
  },
  {
   "cell_type": "markdown",
   "id": "loving-jacket",
   "metadata": {},
   "source": [
    "# Data Processing"
   ]
  },
  {
   "cell_type": "code",
   "execution_count": 48,
   "id": "incredible-racing",
   "metadata": {},
   "outputs": [],
   "source": [
    "# create dictionary that has key : class, value : data path\n",
    "np_train = np.array(df_train)\n",
    "class_dic = {i : [] for i in range(18)}\n",
    "for info in np_train:\n",
    "    if info[1] == 'male':\n",
    "        if info[3] < 30:\n",
    "            class_num = 0\n",
    "        elif info[3] >= 30 and info[3] < 58:\n",
    "            class_num = 1\n",
    "        else:\n",
    "            class_num = 2\n",
    "    elif info[1] == 'female':\n",
    "        if info[3] < 30:\n",
    "            class_num = 3\n",
    "        elif info[3] >= 30 and info[3] < 60:\n",
    "            class_num = 4\n",
    "        else:\n",
    "            class_num = 5\n",
    "    \n",
    "    img_list = sorted([img.split('/')[-1] for img in glob(f'{train_dir}/images/{info[4]}/*')])\n",
    "    copy_class_dir = [1, 0, 0, 0, 0, 0, 2]\n",
    "    for i in range(len(img_list)):\n",
    "        target_dir = os.path.join(train_dir, 'images', info[4], img_list[i])\n",
    "        class_dic[copy_class_dir[i]*6+class_num].append(target_dir)"
   ]
  },
  {
   "cell_type": "code",
   "execution_count": 49,
   "id": "dressed-diagnosis",
   "metadata": {},
   "outputs": [],
   "source": [
    "# create list that has [path, class]\n",
    "class_path = []\n",
    "for c in class_dic:\n",
    "    for path in class_dic[c]:\n",
    "        class_path.append([path, c])\n",
    "class_path = np.array(class_path)"
   ]
  },
  {
   "cell_type": "code",
   "execution_count": 50,
   "id": "fatty-thumb",
   "metadata": {
    "tags": []
   },
   "outputs": [],
   "source": [
    "# create list that has [path, class] for using one mask data by one person > down sampling \n",
    "tuned_class_path = []\n",
    "for c in class_dic:\n",
    "    if c <= 5:\n",
    "        for path_idx in range(0, len(class_dic[c]), 5):\n",
    "            tuned_class_path.append([class_dic[c][path_idx:path_idx+5], c])\n",
    "    else:\n",
    "        for path in class_dic[c]:\n",
    "            tuned_class_path.append([path, c])\n",
    "tuned_class_path = np.array(tuned_class_path)"
   ]
  },
  {
   "cell_type": "code",
   "execution_count": 51,
   "id": "changing-medication",
   "metadata": {},
   "outputs": [
    {
     "data": {
      "text/plain": [
       "<matplotlib.image.AxesImage at 0x7f4d3137d690>"
      ]
     },
     "execution_count": 51,
     "metadata": {},
     "output_type": "execute_result"
    },
    {
     "data": {
      "image/png": "[encoded data removed]",
      "text/plain": [
       "<Figure size 504x288 with 2 Axes>"
      ]
     },
     "metadata": {
      "needs_background": "light"
     },
     "output_type": "display_data"
    }
   ],
   "source": [
    "# compare original data and transformed data\n",
    "sample_img = Image.open(class_path[0][0])\n",
    "sample = np.array(sample_img)\n",
    "\n",
    "fig, ax = plt.subplots(1, 2, figsize=(7,4))\n",
    "ax[0].imshow(sample)\n",
    "\n",
    "trfm = Compose([\n",
    "    CenterCrop(400, 300, p=1.0),\n",
    "    HorizontalFlip(p=0.5),\n",
    "    ShiftScaleRotate(p=0.7),\n",
    "    RandomBrightnessContrast(brightness_limit=(-0.1, 0.3), contrast_limit=(-0.1, 0.3), p=0.5),\n",
    "    GaussNoise(p=0.7),\n",
    "#     Normalize(mean=(0.560, 0.524, 0.501), std=(0.233, 0.243, 0.246), max_pixel_value=255.0, p=1.0),\n",
    "#     ToTensorV2(p=1.0)\n",
    "], p=1.0)\n",
    "ax[1].imshow(trfm(image=sample)['image'])"
   ]
  },
  {
   "cell_type": "markdown",
   "id": "lovely-value",
   "metadata": {},
   "source": [
    "# Dataset, DataLoader, Modeling"
   ]
  },
  {
   "cell_type": "code",
   "execution_count": 52,
   "id": "suitable-insertion",
   "metadata": {},
   "outputs": [],
   "source": [
    "# for training\n",
    "class FocalLoss(nn.Module):\n",
    "    def __init__(self, weight=None,\n",
    "                 gamma=2., reduction='mean'):\n",
    "        nn.Module.__init__(self)\n",
    "        self.weight = weight\n",
    "        self.gamma = gamma\n",
    "        self.reduction = reduction\n",
    "\n",
    "    def forward(self, input_tensor, target_tensor):\n",
    "        log_prob = F.log_softmax(input_tensor, dim=-1)\n",
    "        prob = torch.exp(log_prob)\n",
    "        return F.nll_loss(\n",
    "            ((1 - prob) ** self.gamma) * log_prob,\n",
    "            target_tensor,\n",
    "            weight=self.weight,\n",
    "            reduction=self.reduction\n",
    "        )\n",
    "\n",
    "class F1Loss(nn.Module):\n",
    "    def __init__(self, classes=18, epsilon=1e-7):\n",
    "        super().__init__()\n",
    "        self.classes = classes\n",
    "        self.epsilon = epsilon\n",
    "    def forward(self, y_pred, y_true):\n",
    "        assert y_pred.ndim == 2\n",
    "        assert y_true.ndim == 1\n",
    "        y_true = F.one_hot(y_true, self.classes).to(torch.float32)\n",
    "        y_pred = F.softmax(y_pred, dim=1)\n",
    "\n",
    "        tp = (y_true * y_pred).sum(dim=0).to(torch.float32)\n",
    "        tn = ((1 - y_true) * (1 - y_pred)).sum(dim=0).to(torch.float32)\n",
    "        fp = ((1 - y_true) * y_pred).sum(dim=0).to(torch.float32)\n",
    "        fn = (y_true * (1 - y_pred)).sum(dim=0).to(torch.float32)\n",
    "\n",
    "        precision = tp / (tp + fp + self.epsilon)\n",
    "        recall = tp / (tp + fn + self.epsilon)\n",
    "\n",
    "        f1 = 2 * (precision * recall) / (precision + recall + self.epsilon)\n",
    "        f1 = f1.clamp(min=self.epsilon, max=1 - self.epsilon)\n",
    "        return 1 - f1.mean()    \n",
    "\n",
    "# for metric\n",
    "def metric_f1loss(y_true, y_pred):\n",
    "    y_true = F.one_hot(y_true, 18).to(torch.float32)\n",
    "    y_pred = F.softmax(y_pred, dim=1)\n",
    "\n",
    "    tp = (y_true * y_pred).sum(dim=0).to(torch.float32)\n",
    "    tn = ((1 - y_true) * (1 - y_pred)).sum(dim=0).to(torch.float32)\n",
    "    fp = ((1 - y_true) * y_pred).sum(dim=0).to(torch.float32)\n",
    "    fn = (y_true * (1 - y_pred)).sum(dim=0).to(torch.float32)\n",
    "\n",
    "    epsilon=1e-7\n",
    "\n",
    "    precision = tp / (tp + fp + epsilon)\n",
    "    recall = tp / (tp + fn + epsilon)\n",
    "\n",
    "    f1 = 2 * (precision * recall) / (precision + recall + epsilon)\n",
    "    f1 = f1.clamp(min=epsilon, max=1 - epsilon)\n",
    "    return f1.mean().item()"
   ]
  },
  {
   "cell_type": "code",
   "execution_count": 53,
   "id": "correct-conditions",
   "metadata": {},
   "outputs": [],
   "source": [
    "# define argumentation function\n",
    "def get_transforms(need=('train', 'val'), img_size=(512, 384), mean=(0.560, 0.524, 0.501), std=(0.233, 0.243, 0.246)):\n",
    "    transformations = {}\n",
    "    if 'train' in need:\n",
    "        transformations['train'] = Compose([\n",
    "            Resize(img_size[0], img_size[1], p=1.0),\n",
    "#             CenterCrop(img_size[0], img_size[1], p=1.0),\n",
    "            HorizontalFlip(p=0.5),\n",
    "            ShiftScaleRotate(p=0.7),\n",
    "            RandomBrightnessContrast(brightness_limit=(-0.1, 0.3), contrast_limit=(-0.1, 0.3), p=0.5),\n",
    "            GaussNoise(p=0.7),\n",
    "            Normalize(mean=mean, std=std, max_pixel_value=255.0, p=1.0),\n",
    "            ToTensorV2(p=1.0)\n",
    "        ], p=1.0)\n",
    "    if 'val' in need:\n",
    "        transformations['val'] = Compose([\n",
    "            Resize(img_size[0], img_size[1], p=1.0),\n",
    "#             CenterCrop(img_size[0], img_size[1], p=1.0),\n",
    "            Normalize(mean=mean, std=std, max_pixel_value=255.0, p=1.0),\n",
    "            ToTensorV2(p=1.0)\n",
    "        ], p=1.0)\n",
    "    return transformations\n",
    "\n",
    "\n",
    "# define dataset class\n",
    "class ImageDataset(Dataset):\n",
    "    def __init__(self, class_path, transform, tuned):\n",
    "        self.class_path = class_path\n",
    "        self.transform = transform\n",
    "        self.tuned = tuned\n",
    "    \n",
    "    def set_transform(self, transform):\n",
    "        self.transform = transform\n",
    "    \n",
    "    # tuned : for down sampling, using one mask data for one person\n",
    "    def __getitem__(self, index):\n",
    "        if not self.tuned:\n",
    "            image = Image.open(self.class_path[index][0])\n",
    "        \n",
    "        elif self.tuned:\n",
    "            if isinstance(self.class_path[index][0], list):\n",
    "                image = Image.open(self.class_path[index][0][np.random.randint(0,5)])\n",
    "            else:\n",
    "                image = Image.open(self.class_path[index][0])\n",
    "        \n",
    "        if self.transform:\n",
    "            image = self.transform(image=np.array(image))\n",
    "            \n",
    "        return image['image'], int(self.class_path[index][1])\n",
    "\n",
    "    def __len__(self):\n",
    "        return len(self.class_path)"
   ]
  },
  {
   "cell_type": "code",
   "execution_count": 54,
   "id": "broad-obligation",
   "metadata": {},
   "outputs": [],
   "source": [
    "TESTSIZE = 0.2\n",
    "\n",
    "MODELNAME='effnetb3_celoss_nokfold_agefilter58_aug'\n",
    "\n",
    "LR = 1e-4\n",
    "EPOCHS = 15\n",
    "PRINTEVERY = 1\n",
    "BATCHSIZE = 32\n",
    "SEED = 33\n",
    "TUNED = False\n",
    "\n",
    "torch.manual_seed(SEED)\n",
    "torch.cuda.manual_seed(SEED)\n",
    "np.random.seed(SEED)\n",
    "\n",
    "\n",
    "device = torch.device('cuda:0' if torch.cuda.is_available() else 'cpu')"
   ]
  },
  {
   "cell_type": "code",
   "execution_count": 55,
   "id": "tamil-cowboy",
   "metadata": {},
   "outputs": [],
   "source": [
    "# split into training set and validation set\n",
    "if TESTSIZE == 0:\n",
    "    train_class_path = class_path\n",
    "    val_class_path = np.array([])\n",
    "else:\n",
    "    train_idx, val_idx = train_test_split(np.arange(len(class_path)), \n",
    "                                          stratify=class_path[:,1],\n",
    "                                          test_size=TESTSIZE, random_state=SEED)\n",
    "    train_class_path = class_path[train_idx,:]\n",
    "    val_class_path = class_path[val_idx,:]\n",
    "\n",
    "# when using down sampling, validation set dont have to use down sample data\n",
    "if TUNED == True:\n",
    "    val_class_path = []\n",
    "    for idx, val in enumerate(val_class_path):\n",
    "        if isinstance(val[0], list):\n",
    "            for path in val[0]:\n",
    "                val_class_path.append([path, val[1]])\n",
    "        else:\n",
    "            val_class_path.append(val)\n",
    "    val_class_path = np.array(val_class_path)"
   ]
  },
  {
   "cell_type": "code",
   "execution_count": 56,
   "id": "fluid-broad",
   "metadata": {},
   "outputs": [
    {
     "name": "stdout",
     "output_type": "stream",
     "text": [
      "Loaded pretrained weights for efficientnet-b3\n"
     ]
    },
    {
     "ename": "AssertionError",
     "evalue": "saved model directory already exist",
     "output_type": "error",
     "traceback": [
      "\u001b[0;31m---------------------------------------------------------------------------\u001b[0m",
      "\u001b[0;31mAssertionError\u001b[0m                            Traceback (most recent call last)",
      "\u001b[0;32m<ipython-input-56-ec553d4978d9>\u001b[0m in \u001b[0;36m<module>\u001b[0;34m\u001b[0m\n\u001b[1;32m     48\u001b[0m     \u001b[0mos\u001b[0m\u001b[0;34m.\u001b[0m\u001b[0mmakedirs\u001b[0m\u001b[0;34m(\u001b[0m\u001b[0;34mf'models/{MODELNAME}'\u001b[0m\u001b[0;34m)\u001b[0m\u001b[0;34m\u001b[0m\u001b[0;34m\u001b[0m\u001b[0m\n\u001b[1;32m     49\u001b[0m \u001b[0;32melse\u001b[0m\u001b[0;34m:\u001b[0m\u001b[0;34m\u001b[0m\u001b[0;34m\u001b[0m\u001b[0m\n\u001b[0;32m---> 50\u001b[0;31m     \u001b[0;32massert\u001b[0m \u001b[0;32mnot\u001b[0m \u001b[0mos\u001b[0m\u001b[0;34m.\u001b[0m\u001b[0mpath\u001b[0m\u001b[0;34m.\u001b[0m\u001b[0misdir\u001b[0m\u001b[0;34m(\u001b[0m\u001b[0;34mf'models/{MODELNAME}'\u001b[0m\u001b[0;34m)\u001b[0m\u001b[0;34m,\u001b[0m \u001b[0;34m'saved model directory already exist'\u001b[0m\u001b[0;34m\u001b[0m\u001b[0;34m\u001b[0m\u001b[0m\n\u001b[0m",
      "\u001b[0;31mAssertionError\u001b[0m: saved model directory already exist"
     ]
    }
   ],
   "source": [
    "# set Dataset and DataLoader\n",
    "transform = get_transforms()\n",
    "train_dataset = ImageDataset(train_class_path, transform=None, tuned=TUNED)\n",
    "train_dataset.set_transform(transform['train'])\n",
    "\n",
    "val_dataset = ImageDataset(val_class_path, transform=None, tuned=TUNED)\n",
    "val_dataset.set_transform(transform['val'])\n",
    "\n",
    "torch.cuda.empty_cache()\n",
    "\n",
    "train_tuned_loader = DataLoader(\n",
    "    train_dataset,\n",
    "    batch_size = BATCHSIZE,\n",
    "    num_workers = 2,\n",
    "    shuffle = True\n",
    ")\n",
    "if TESTSIZE != 0:\n",
    "    val_loader = DataLoader(\n",
    "        val_dataset,\n",
    "        batch_size = BATCHSIZE,\n",
    "        num_workers = 2,\n",
    "        shuffle = True\n",
    "    )\n",
    "\n",
    "\n",
    "# set pretrained model\n",
    "model_type = MODELNAME.split('_')[0]\n",
    "if model_type == 'effnetb3':\n",
    "    model = EfficientNet.from_pretrained('efficientnet-b3', num_classes=18)\n",
    "elif model_type == 'resnet50':\n",
    "    model = models.resnet50(pretrained=True)\n",
    "    model.fc = nn.Linear(in_features=2048, out_features=18, bias=True)\n",
    "elif model_type == 'resnet101':\n",
    "    model = models.resnet101(pretrained=True)\n",
    "    model.fc = nn.Linear(in_features=2048, out_features=18, bias=True)\n",
    "\n",
    "model.to(device)\n",
    "\n",
    "loss = nn.CrossEntropyLoss()\n",
    "optm = optim.Adam(model.parameters(), lr=LR)\n",
    "\n",
    "\n",
    "# make dir that save model\n",
    "if not os.path.isdir('models'):\n",
    "    os.makedirs(\"models\")\n",
    "\n",
    "if not os.path.isdir(f'models/{MODELNAME}'):\n",
    "    os.makedirs(f'models/{MODELNAME}')\n",
    "else:\n",
    "    assert not os.path.isdir(f'models/{MODELNAME}'), 'saved model directory already exist'"
   ]
  },
  {
   "cell_type": "markdown",
   "id": "italic-indian",
   "metadata": {},
   "source": [
    "# Learning Model"
   ]
  },
  {
   "cell_type": "code",
   "execution_count": 57,
   "id": "sitting-affair",
   "metadata": {},
   "outputs": [
    {
     "name": "stderr",
     "output_type": "stream",
     "text": [
      "100%|██████████| 472/472 [04:31<00:00,  1.74it/s]\n",
      "  0%|          | 0/472 [00:00<?, ?it/s]"
     ]
    },
    {
     "name": "stdout",
     "output_type": "stream",
     "text": [
      "* Epoch : 0\n",
      "mean train loss : 0.778, mean train f1 : 0.340, mean train acc : 0.777\n",
      "       val loss : 0.269,        val f1 : 0.491,        val acc : 0.906\n",
      "sklearn train f1 : 0.721, sklearn val f1 : 0.852\n",
      "\n"
     ]
    },
    {
     "name": "stderr",
     "output_type": "stream",
     "text": [
      "100%|██████████| 472/472 [04:31<00:00,  1.74it/s]\n",
      "  0%|          | 0/472 [00:00<?, ?it/s]"
     ]
    },
    {
     "name": "stdout",
     "output_type": "stream",
     "text": [
      "* Epoch : 1\n",
      "mean train loss : 0.269, mean train f1 : 0.501, mean train acc : 0.907\n",
      "       val loss : 0.213,        val f1 : 0.528,        val acc : 0.922\n",
      "sklearn train f1 : 0.857, sklearn val f1 : 0.850\n",
      "\n",
      "Saved models : models/effnetb3_celoss_nokfold_agefilter58_aug/01_0.501_0.528_0.850.pth\n",
      "\n"
     ]
    },
    {
     "name": "stderr",
     "output_type": "stream",
     "text": [
      "100%|██████████| 472/472 [04:31<00:00,  1.74it/s]\n",
      "  0%|          | 0/472 [00:00<?, ?it/s]"
     ]
    },
    {
     "name": "stdout",
     "output_type": "stream",
     "text": [
      "* Epoch : 2\n",
      "mean train loss : 0.179, mean train f1 : 0.538, mean train acc : 0.939\n",
      "       val loss : 0.083,        val f1 : 0.578,        val acc : 0.974\n",
      "sklearn train f1 : 0.882, sklearn val f1 : 0.942\n",
      "\n",
      "Saved models : models/effnetb3_celoss_nokfold_agefilter58_aug/02_0.538_0.578_0.942.pth\n",
      "\n"
     ]
    },
    {
     "name": "stderr",
     "output_type": "stream",
     "text": [
      "100%|██████████| 472/472 [04:31<00:00,  1.74it/s]\n",
      "  0%|          | 0/472 [00:00<?, ?it/s]"
     ]
    },
    {
     "name": "stdout",
     "output_type": "stream",
     "text": [
      "* Epoch : 3\n",
      "mean train loss : 0.125, mean train f1 : 0.560, mean train acc : 0.960\n",
      "       val loss : 0.067,        val f1 : 0.580,        val acc : 0.979\n",
      "sklearn train f1 : 0.912, sklearn val f1 : 0.925\n",
      "\n",
      "Saved models : models/effnetb3_celoss_nokfold_agefilter58_aug/03_0.560_0.580_0.925.pth\n",
      "\n"
     ]
    },
    {
     "name": "stderr",
     "output_type": "stream",
     "text": [
      "100%|██████████| 472/472 [04:31<00:00,  1.74it/s]\n",
      "  0%|          | 0/472 [00:00<?, ?it/s]"
     ]
    },
    {
     "name": "stdout",
     "output_type": "stream",
     "text": [
      "* Epoch : 4\n",
      "mean train loss : 0.081, mean train f1 : 0.579, mean train acc : 0.973\n",
      "       val loss : 0.050,        val f1 : 0.596,        val acc : 0.985\n",
      "sklearn train f1 : 0.931, sklearn val f1 : 0.947\n",
      "\n",
      "Saved models : models/effnetb3_celoss_nokfold_agefilter58_aug/04_0.579_0.596_0.947.pth\n",
      "\n"
     ]
    },
    {
     "name": "stderr",
     "output_type": "stream",
     "text": [
      "100%|██████████| 472/472 [04:31<00:00,  1.74it/s]\n",
      "  0%|          | 0/472 [00:00<?, ?it/s]"
     ]
    },
    {
     "name": "stdout",
     "output_type": "stream",
     "text": [
      "* Epoch : 5\n",
      "mean train loss : 0.064, mean train f1 : 0.594, mean train acc : 0.982\n",
      "       val loss : 0.067,        val f1 : 0.608,        val acc : 0.979\n",
      "sklearn train f1 : 0.946, sklearn val f1 : 0.922\n",
      "\n",
      "Saved models : models/effnetb3_celoss_nokfold_agefilter58_aug/05_0.594_0.608_0.922.pth\n",
      "\n"
     ]
    },
    {
     "name": "stderr",
     "output_type": "stream",
     "text": [
      "100%|██████████| 472/472 [04:31<00:00,  1.74it/s]\n",
      "  0%|          | 0/472 [00:00<?, ?it/s]"
     ]
    },
    {
     "name": "stdout",
     "output_type": "stream",
     "text": [
      "* Epoch : 6\n",
      "mean train loss : 0.049, mean train f1 : 0.600, mean train acc : 0.986\n",
      "       val loss : 0.062,        val f1 : 0.604,        val acc : 0.978\n",
      "sklearn train f1 : 0.949, sklearn val f1 : 0.950\n",
      "\n",
      "Saved models : models/effnetb3_celoss_nokfold_agefilter58_aug/06_0.600_0.604_0.950.pth\n",
      "\n"
     ]
    },
    {
     "name": "stderr",
     "output_type": "stream",
     "text": [
      "100%|██████████| 472/472 [04:31<00:00,  1.74it/s]\n",
      "  0%|          | 0/472 [00:00<?, ?it/s]"
     ]
    },
    {
     "name": "stdout",
     "output_type": "stream",
     "text": [
      "* Epoch : 7\n",
      "mean train loss : 0.047, mean train f1 : 0.597, mean train acc : 0.984\n",
      "       val loss : 0.048,        val f1 : 0.607,        val acc : 0.987\n",
      "sklearn train f1 : 0.939, sklearn val f1 : 0.944\n",
      "\n",
      "Saved models : models/effnetb3_celoss_nokfold_agefilter58_aug/07_0.597_0.607_0.944.pth\n",
      "\n"
     ]
    },
    {
     "name": "stderr",
     "output_type": "stream",
     "text": [
      "100%|██████████| 472/472 [04:31<00:00,  1.74it/s]\n",
      "  0%|          | 0/472 [00:00<?, ?it/s]"
     ]
    },
    {
     "name": "stdout",
     "output_type": "stream",
     "text": [
      "* Epoch : 8\n",
      "mean train loss : 0.036, mean train f1 : 0.606, mean train acc : 0.988\n",
      "       val loss : 0.031,        val f1 : 0.609,        val acc : 0.992\n",
      "sklearn train f1 : 0.950, sklearn val f1 : 0.936\n",
      "\n",
      "Saved models : models/effnetb3_celoss_nokfold_agefilter58_aug/08_0.606_0.609_0.936.pth\n",
      "\n"
     ]
    },
    {
     "name": "stderr",
     "output_type": "stream",
     "text": [
      "100%|██████████| 472/472 [04:31<00:00,  1.74it/s]\n",
      "  0%|          | 0/472 [00:00<?, ?it/s]"
     ]
    },
    {
     "name": "stdout",
     "output_type": "stream",
     "text": [
      "* Epoch : 9\n",
      "mean train loss : 0.028, mean train f1 : 0.609, mean train acc : 0.993\n",
      "       val loss : 0.022,        val f1 : 0.610,        val acc : 0.996\n",
      "sklearn train f1 : 0.958, sklearn val f1 : 0.969\n",
      "\n",
      "Saved models : models/effnetb3_celoss_nokfold_agefilter58_aug/09_0.609_0.610_0.969.pth\n",
      "\n"
     ]
    },
    {
     "name": "stderr",
     "output_type": "stream",
     "text": [
      "100%|██████████| 472/472 [04:32<00:00,  1.73it/s]\n",
      "  0%|          | 0/472 [00:00<?, ?it/s]"
     ]
    },
    {
     "name": "stdout",
     "output_type": "stream",
     "text": [
      "* Epoch : 10\n",
      "mean train loss : 0.031, mean train f1 : 0.610, mean train acc : 0.990\n",
      "       val loss : 0.023,        val f1 : 0.618,        val acc : 0.994\n",
      "sklearn train f1 : 0.961, sklearn val f1 : 0.969\n",
      "\n",
      "Saved models : models/effnetb3_celoss_nokfold_agefilter58_aug/10_0.610_0.618_0.969.pth\n",
      "\n"
     ]
    },
    {
     "name": "stderr",
     "output_type": "stream",
     "text": [
      "100%|██████████| 472/472 [04:31<00:00,  1.74it/s]\n",
      "  0%|          | 0/472 [00:00<?, ?it/s]"
     ]
    },
    {
     "name": "stdout",
     "output_type": "stream",
     "text": [
      "* Epoch : 11\n",
      "mean train loss : 0.033, mean train f1 : 0.611, mean train acc : 0.988\n",
      "       val loss : 0.024,        val f1 : 0.617,        val acc : 0.994\n",
      "sklearn train f1 : 0.949, sklearn val f1 : 0.956\n",
      "\n",
      "Saved models : models/effnetb3_celoss_nokfold_agefilter58_aug/11_0.611_0.617_0.956.pth\n",
      "\n"
     ]
    },
    {
     "name": "stderr",
     "output_type": "stream",
     "text": [
      " 10%|▉         | 45/472 [00:27<04:22,  1.63it/s]\n"
     ]
    },
    {
     "ename": "KeyboardInterrupt",
     "evalue": "",
     "output_type": "error",
     "traceback": [
      "\u001b[0;31m---------------------------------------------------------------------------\u001b[0m",
      "\u001b[0;31mKeyboardInterrupt\u001b[0m                         Traceback (most recent call last)",
      "\u001b[0;32m<ipython-input-57-f87a8ea4f266>\u001b[0m in \u001b[0;36m<module>\u001b[0;34m\u001b[0m\n\u001b[1;32m     32\u001b[0m         \u001b[0ma\u001b[0m\u001b[0;34m=\u001b[0m\u001b[0mF\u001b[0m\u001b[0;34m.\u001b[0m\u001b[0mone_hot\u001b[0m\u001b[0;34m(\u001b[0m\u001b[0mtrain_y\u001b[0m\u001b[0;34m,\u001b[0m \u001b[0mnum_classes\u001b[0m\u001b[0;34m=\u001b[0m\u001b[0;36m18\u001b[0m\u001b[0;34m)\u001b[0m\u001b[0;34m.\u001b[0m\u001b[0mcpu\u001b[0m\u001b[0;34m(\u001b[0m\u001b[0;34m)\u001b[0m\u001b[0;34m.\u001b[0m\u001b[0mnumpy\u001b[0m\u001b[0;34m(\u001b[0m\u001b[0;34m)\u001b[0m\u001b[0;34m\u001b[0m\u001b[0;34m\u001b[0m\u001b[0m\n\u001b[1;32m     33\u001b[0m         \u001b[0mb\u001b[0m\u001b[0;34m=\u001b[0m\u001b[0mF\u001b[0m\u001b[0;34m.\u001b[0m\u001b[0mone_hot\u001b[0m\u001b[0;34m(\u001b[0m\u001b[0mtrain_pred_class\u001b[0m\u001b[0;34m,\u001b[0m \u001b[0mnum_classes\u001b[0m\u001b[0;34m=\u001b[0m\u001b[0;36m18\u001b[0m\u001b[0;34m)\u001b[0m\u001b[0;34m.\u001b[0m\u001b[0mcpu\u001b[0m\u001b[0;34m(\u001b[0m\u001b[0;34m)\u001b[0m\u001b[0;34m.\u001b[0m\u001b[0mnumpy\u001b[0m\u001b[0;34m(\u001b[0m\u001b[0;34m)\u001b[0m\u001b[0;34m\u001b[0m\u001b[0;34m\u001b[0m\u001b[0m\n\u001b[0;32m---> 34\u001b[0;31m         \u001b[0mtrain_skl_f1_list\u001b[0m\u001b[0;34m.\u001b[0m\u001b[0mappend\u001b[0m\u001b[0;34m(\u001b[0m\u001b[0mf1_score\u001b[0m\u001b[0;34m(\u001b[0m\u001b[0ma\u001b[0m\u001b[0;34m,\u001b[0m \u001b[0mb\u001b[0m\u001b[0;34m,\u001b[0m \u001b[0maverage\u001b[0m\u001b[0;34m=\u001b[0m\u001b[0;34m'macro'\u001b[0m\u001b[0;34m,\u001b[0m \u001b[0mlabels\u001b[0m\u001b[0;34m=\u001b[0m\u001b[0mnp\u001b[0m\u001b[0;34m.\u001b[0m\u001b[0munique\u001b[0m\u001b[0;34m(\u001b[0m\u001b[0mb\u001b[0m\u001b[0;34m)\u001b[0m\u001b[0;34m)\u001b[0m\u001b[0;34m)\u001b[0m\u001b[0;34m\u001b[0m\u001b[0;34m\u001b[0m\u001b[0m\n\u001b[0m\u001b[1;32m     35\u001b[0m \u001b[0;34m\u001b[0m\u001b[0m\n\u001b[1;32m     36\u001b[0m     \u001b[0;31m# evaluate process for train, val split data\u001b[0m\u001b[0;34m\u001b[0m\u001b[0;34m\u001b[0m\u001b[0;34m\u001b[0m\u001b[0m\n",
      "\u001b[0;32m/opt/conda/lib/python3.7/site-packages/sklearn/utils/validation.py\u001b[0m in \u001b[0;36minner_f\u001b[0;34m(*args, **kwargs)\u001b[0m\n\u001b[1;32m     61\u001b[0m             \u001b[0mextra_args\u001b[0m \u001b[0;34m=\u001b[0m \u001b[0mlen\u001b[0m\u001b[0;34m(\u001b[0m\u001b[0margs\u001b[0m\u001b[0;34m)\u001b[0m \u001b[0;34m-\u001b[0m \u001b[0mlen\u001b[0m\u001b[0;34m(\u001b[0m\u001b[0mall_args\u001b[0m\u001b[0;34m)\u001b[0m\u001b[0;34m\u001b[0m\u001b[0;34m\u001b[0m\u001b[0m\n\u001b[1;32m     62\u001b[0m             \u001b[0;32mif\u001b[0m \u001b[0mextra_args\u001b[0m \u001b[0;34m<=\u001b[0m \u001b[0;36m0\u001b[0m\u001b[0;34m:\u001b[0m\u001b[0;34m\u001b[0m\u001b[0;34m\u001b[0m\u001b[0m\n\u001b[0;32m---> 63\u001b[0;31m                 \u001b[0;32mreturn\u001b[0m \u001b[0mf\u001b[0m\u001b[0;34m(\u001b[0m\u001b[0;34m*\u001b[0m\u001b[0margs\u001b[0m\u001b[0;34m,\u001b[0m \u001b[0;34m**\u001b[0m\u001b[0mkwargs\u001b[0m\u001b[0;34m)\u001b[0m\u001b[0;34m\u001b[0m\u001b[0;34m\u001b[0m\u001b[0m\n\u001b[0m\u001b[1;32m     64\u001b[0m \u001b[0;34m\u001b[0m\u001b[0m\n\u001b[1;32m     65\u001b[0m             \u001b[0;31m# extra_args > 0\u001b[0m\u001b[0;34m\u001b[0m\u001b[0;34m\u001b[0m\u001b[0;34m\u001b[0m\u001b[0m\n",
      "\u001b[0;32m/opt/conda/lib/python3.7/site-packages/sklearn/metrics/_classification.py\u001b[0m in \u001b[0;36mf1_score\u001b[0;34m(y_true, y_pred, labels, pos_label, average, sample_weight, zero_division)\u001b[0m\n\u001b[1;32m   1069\u001b[0m                        \u001b[0mpos_label\u001b[0m\u001b[0;34m=\u001b[0m\u001b[0mpos_label\u001b[0m\u001b[0;34m,\u001b[0m \u001b[0maverage\u001b[0m\u001b[0;34m=\u001b[0m\u001b[0maverage\u001b[0m\u001b[0;34m,\u001b[0m\u001b[0;34m\u001b[0m\u001b[0;34m\u001b[0m\u001b[0m\n\u001b[1;32m   1070\u001b[0m                        \u001b[0msample_weight\u001b[0m\u001b[0;34m=\u001b[0m\u001b[0msample_weight\u001b[0m\u001b[0;34m,\u001b[0m\u001b[0;34m\u001b[0m\u001b[0;34m\u001b[0m\u001b[0m\n\u001b[0;32m-> 1071\u001b[0;31m                        zero_division=zero_division)\n\u001b[0m\u001b[1;32m   1072\u001b[0m \u001b[0;34m\u001b[0m\u001b[0m\n\u001b[1;32m   1073\u001b[0m \u001b[0;34m\u001b[0m\u001b[0m\n",
      "\u001b[0;32m/opt/conda/lib/python3.7/site-packages/sklearn/utils/validation.py\u001b[0m in \u001b[0;36minner_f\u001b[0;34m(*args, **kwargs)\u001b[0m\n\u001b[1;32m     61\u001b[0m             \u001b[0mextra_args\u001b[0m \u001b[0;34m=\u001b[0m \u001b[0mlen\u001b[0m\u001b[0;34m(\u001b[0m\u001b[0margs\u001b[0m\u001b[0;34m)\u001b[0m \u001b[0;34m-\u001b[0m \u001b[0mlen\u001b[0m\u001b[0;34m(\u001b[0m\u001b[0mall_args\u001b[0m\u001b[0;34m)\u001b[0m\u001b[0;34m\u001b[0m\u001b[0;34m\u001b[0m\u001b[0m\n\u001b[1;32m     62\u001b[0m             \u001b[0;32mif\u001b[0m \u001b[0mextra_args\u001b[0m \u001b[0;34m<=\u001b[0m \u001b[0;36m0\u001b[0m\u001b[0;34m:\u001b[0m\u001b[0;34m\u001b[0m\u001b[0;34m\u001b[0m\u001b[0m\n\u001b[0;32m---> 63\u001b[0;31m                 \u001b[0;32mreturn\u001b[0m \u001b[0mf\u001b[0m\u001b[0;34m(\u001b[0m\u001b[0;34m*\u001b[0m\u001b[0margs\u001b[0m\u001b[0;34m,\u001b[0m \u001b[0;34m**\u001b[0m\u001b[0mkwargs\u001b[0m\u001b[0;34m)\u001b[0m\u001b[0;34m\u001b[0m\u001b[0;34m\u001b[0m\u001b[0m\n\u001b[0m\u001b[1;32m     64\u001b[0m \u001b[0;34m\u001b[0m\u001b[0m\n\u001b[1;32m     65\u001b[0m             \u001b[0;31m# extra_args > 0\u001b[0m\u001b[0;34m\u001b[0m\u001b[0;34m\u001b[0m\u001b[0;34m\u001b[0m\u001b[0m\n",
      "\u001b[0;32m/opt/conda/lib/python3.7/site-packages/sklearn/metrics/_classification.py\u001b[0m in \u001b[0;36mfbeta_score\u001b[0;34m(y_true, y_pred, beta, labels, pos_label, average, sample_weight, zero_division)\u001b[0m\n\u001b[1;32m   1197\u001b[0m                                                  \u001b[0mwarn_for\u001b[0m\u001b[0;34m=\u001b[0m\u001b[0;34m(\u001b[0m\u001b[0;34m'f-score'\u001b[0m\u001b[0;34m,\u001b[0m\u001b[0;34m)\u001b[0m\u001b[0;34m,\u001b[0m\u001b[0;34m\u001b[0m\u001b[0;34m\u001b[0m\u001b[0m\n\u001b[1;32m   1198\u001b[0m                                                  \u001b[0msample_weight\u001b[0m\u001b[0;34m=\u001b[0m\u001b[0msample_weight\u001b[0m\u001b[0;34m,\u001b[0m\u001b[0;34m\u001b[0m\u001b[0;34m\u001b[0m\u001b[0m\n\u001b[0;32m-> 1199\u001b[0;31m                                                  zero_division=zero_division)\n\u001b[0m\u001b[1;32m   1200\u001b[0m     \u001b[0;32mreturn\u001b[0m \u001b[0mf\u001b[0m\u001b[0;34m\u001b[0m\u001b[0;34m\u001b[0m\u001b[0m\n\u001b[1;32m   1201\u001b[0m \u001b[0;34m\u001b[0m\u001b[0m\n",
      "\u001b[0;32m/opt/conda/lib/python3.7/site-packages/sklearn/utils/validation.py\u001b[0m in \u001b[0;36minner_f\u001b[0;34m(*args, **kwargs)\u001b[0m\n\u001b[1;32m     61\u001b[0m             \u001b[0mextra_args\u001b[0m \u001b[0;34m=\u001b[0m \u001b[0mlen\u001b[0m\u001b[0;34m(\u001b[0m\u001b[0margs\u001b[0m\u001b[0;34m)\u001b[0m \u001b[0;34m-\u001b[0m \u001b[0mlen\u001b[0m\u001b[0;34m(\u001b[0m\u001b[0mall_args\u001b[0m\u001b[0;34m)\u001b[0m\u001b[0;34m\u001b[0m\u001b[0;34m\u001b[0m\u001b[0m\n\u001b[1;32m     62\u001b[0m             \u001b[0;32mif\u001b[0m \u001b[0mextra_args\u001b[0m \u001b[0;34m<=\u001b[0m \u001b[0;36m0\u001b[0m\u001b[0;34m:\u001b[0m\u001b[0;34m\u001b[0m\u001b[0;34m\u001b[0m\u001b[0m\n\u001b[0;32m---> 63\u001b[0;31m                 \u001b[0;32mreturn\u001b[0m \u001b[0mf\u001b[0m\u001b[0;34m(\u001b[0m\u001b[0;34m*\u001b[0m\u001b[0margs\u001b[0m\u001b[0;34m,\u001b[0m \u001b[0;34m**\u001b[0m\u001b[0mkwargs\u001b[0m\u001b[0;34m)\u001b[0m\u001b[0;34m\u001b[0m\u001b[0;34m\u001b[0m\u001b[0m\n\u001b[0m\u001b[1;32m     64\u001b[0m \u001b[0;34m\u001b[0m\u001b[0m\n\u001b[1;32m     65\u001b[0m             \u001b[0;31m# extra_args > 0\u001b[0m\u001b[0;34m\u001b[0m\u001b[0;34m\u001b[0m\u001b[0;34m\u001b[0m\u001b[0m\n",
      "\u001b[0;32m/opt/conda/lib/python3.7/site-packages/sklearn/metrics/_classification.py\u001b[0m in \u001b[0;36mprecision_recall_fscore_support\u001b[0;34m(y_true, y_pred, beta, labels, pos_label, average, warn_for, sample_weight, zero_division)\u001b[0m\n\u001b[1;32m   1466\u001b[0m     MCM = multilabel_confusion_matrix(y_true, y_pred,\n\u001b[1;32m   1467\u001b[0m                                       \u001b[0msample_weight\u001b[0m\u001b[0;34m=\u001b[0m\u001b[0msample_weight\u001b[0m\u001b[0;34m,\u001b[0m\u001b[0;34m\u001b[0m\u001b[0;34m\u001b[0m\u001b[0m\n\u001b[0;32m-> 1468\u001b[0;31m                                       labels=labels, samplewise=samplewise)\n\u001b[0m\u001b[1;32m   1469\u001b[0m     \u001b[0mtp_sum\u001b[0m \u001b[0;34m=\u001b[0m \u001b[0mMCM\u001b[0m\u001b[0;34m[\u001b[0m\u001b[0;34m:\u001b[0m\u001b[0;34m,\u001b[0m \u001b[0;36m1\u001b[0m\u001b[0;34m,\u001b[0m \u001b[0;36m1\u001b[0m\u001b[0;34m]\u001b[0m\u001b[0;34m\u001b[0m\u001b[0;34m\u001b[0m\u001b[0m\n\u001b[1;32m   1470\u001b[0m     \u001b[0mpred_sum\u001b[0m \u001b[0;34m=\u001b[0m \u001b[0mtp_sum\u001b[0m \u001b[0;34m+\u001b[0m \u001b[0mMCM\u001b[0m\u001b[0;34m[\u001b[0m\u001b[0;34m:\u001b[0m\u001b[0;34m,\u001b[0m \u001b[0;36m0\u001b[0m\u001b[0;34m,\u001b[0m \u001b[0;36m1\u001b[0m\u001b[0;34m]\u001b[0m\u001b[0;34m\u001b[0m\u001b[0;34m\u001b[0m\u001b[0m\n",
      "\u001b[0;32m/opt/conda/lib/python3.7/site-packages/sklearn/utils/validation.py\u001b[0m in \u001b[0;36minner_f\u001b[0;34m(*args, **kwargs)\u001b[0m\n\u001b[1;32m     61\u001b[0m             \u001b[0mextra_args\u001b[0m \u001b[0;34m=\u001b[0m \u001b[0mlen\u001b[0m\u001b[0;34m(\u001b[0m\u001b[0margs\u001b[0m\u001b[0;34m)\u001b[0m \u001b[0;34m-\u001b[0m \u001b[0mlen\u001b[0m\u001b[0;34m(\u001b[0m\u001b[0mall_args\u001b[0m\u001b[0;34m)\u001b[0m\u001b[0;34m\u001b[0m\u001b[0;34m\u001b[0m\u001b[0m\n\u001b[1;32m     62\u001b[0m             \u001b[0;32mif\u001b[0m \u001b[0mextra_args\u001b[0m \u001b[0;34m<=\u001b[0m \u001b[0;36m0\u001b[0m\u001b[0;34m:\u001b[0m\u001b[0;34m\u001b[0m\u001b[0;34m\u001b[0m\u001b[0m\n\u001b[0;32m---> 63\u001b[0;31m                 \u001b[0;32mreturn\u001b[0m \u001b[0mf\u001b[0m\u001b[0;34m(\u001b[0m\u001b[0;34m*\u001b[0m\u001b[0margs\u001b[0m\u001b[0;34m,\u001b[0m \u001b[0;34m**\u001b[0m\u001b[0mkwargs\u001b[0m\u001b[0;34m)\u001b[0m\u001b[0;34m\u001b[0m\u001b[0;34m\u001b[0m\u001b[0m\n\u001b[0m\u001b[1;32m     64\u001b[0m \u001b[0;34m\u001b[0m\u001b[0m\n\u001b[1;32m     65\u001b[0m             \u001b[0;31m# extra_args > 0\u001b[0m\u001b[0;34m\u001b[0m\u001b[0;34m\u001b[0m\u001b[0;34m\u001b[0m\u001b[0m\n",
      "\u001b[0;32m/opt/conda/lib/python3.7/site-packages/sklearn/metrics/_classification.py\u001b[0m in \u001b[0;36mmultilabel_confusion_matrix\u001b[0;34m(y_true, y_pred, sample_weight, labels, samplewise)\u001b[0m\n\u001b[1;32m    530\u001b[0m \u001b[0;34m\u001b[0m\u001b[0m\n\u001b[1;32m    531\u001b[0m         \u001b[0;31m# calculate weighted counts\u001b[0m\u001b[0;34m\u001b[0m\u001b[0;34m\u001b[0m\u001b[0;34m\u001b[0m\u001b[0m\n\u001b[0;32m--> 532\u001b[0;31m         \u001b[0mtrue_and_pred\u001b[0m \u001b[0;34m=\u001b[0m \u001b[0my_true\u001b[0m\u001b[0;34m.\u001b[0m\u001b[0mmultiply\u001b[0m\u001b[0;34m(\u001b[0m\u001b[0my_pred\u001b[0m\u001b[0;34m)\u001b[0m\u001b[0;34m\u001b[0m\u001b[0;34m\u001b[0m\u001b[0m\n\u001b[0m\u001b[1;32m    533\u001b[0m         tp_sum = count_nonzero(true_and_pred, axis=sum_axis,\n\u001b[1;32m    534\u001b[0m                                sample_weight=sample_weight)\n",
      "\u001b[0;32m/opt/conda/lib/python3.7/site-packages/scipy/sparse/compressed.py\u001b[0m in \u001b[0;36mmultiply\u001b[0;34m(self, other)\u001b[0m\n\u001b[1;32m    374\u001b[0m             \u001b[0;32mif\u001b[0m \u001b[0mself\u001b[0m\u001b[0;34m.\u001b[0m\u001b[0mshape\u001b[0m \u001b[0;34m==\u001b[0m \u001b[0mother\u001b[0m\u001b[0;34m.\u001b[0m\u001b[0mshape\u001b[0m\u001b[0;34m:\u001b[0m\u001b[0;34m\u001b[0m\u001b[0;34m\u001b[0m\u001b[0m\n\u001b[1;32m    375\u001b[0m                 \u001b[0mother\u001b[0m \u001b[0;34m=\u001b[0m \u001b[0mself\u001b[0m\u001b[0;34m.\u001b[0m\u001b[0m__class__\u001b[0m\u001b[0;34m(\u001b[0m\u001b[0mother\u001b[0m\u001b[0;34m)\u001b[0m\u001b[0;34m\u001b[0m\u001b[0;34m\u001b[0m\u001b[0m\n\u001b[0;32m--> 376\u001b[0;31m                 \u001b[0;32mreturn\u001b[0m \u001b[0mself\u001b[0m\u001b[0;34m.\u001b[0m\u001b[0m_binopt\u001b[0m\u001b[0;34m(\u001b[0m\u001b[0mother\u001b[0m\u001b[0;34m,\u001b[0m \u001b[0;34m'_elmul_'\u001b[0m\u001b[0;34m)\u001b[0m\u001b[0;34m\u001b[0m\u001b[0;34m\u001b[0m\u001b[0m\n\u001b[0m\u001b[1;32m    377\u001b[0m             \u001b[0;31m# Single element.\u001b[0m\u001b[0;34m\u001b[0m\u001b[0;34m\u001b[0m\u001b[0;34m\u001b[0m\u001b[0m\n\u001b[1;32m    378\u001b[0m             \u001b[0;32melif\u001b[0m \u001b[0mother\u001b[0m\u001b[0;34m.\u001b[0m\u001b[0mshape\u001b[0m \u001b[0;34m==\u001b[0m \u001b[0;34m(\u001b[0m\u001b[0;36m1\u001b[0m\u001b[0;34m,\u001b[0m \u001b[0;36m1\u001b[0m\u001b[0;34m)\u001b[0m\u001b[0;34m:\u001b[0m\u001b[0;34m\u001b[0m\u001b[0;34m\u001b[0m\u001b[0m\n",
      "\u001b[0;32m/opt/conda/lib/python3.7/site-packages/scipy/sparse/compressed.py\u001b[0m in \u001b[0;36m_binopt\u001b[0;34m(self, other, op)\u001b[0m\n\u001b[1;32m   1246\u001b[0m \u001b[0;34m\u001b[0m\u001b[0m\n\u001b[1;32m   1247\u001b[0m         \u001b[0mA\u001b[0m \u001b[0;34m=\u001b[0m \u001b[0mself\u001b[0m\u001b[0;34m.\u001b[0m\u001b[0m__class__\u001b[0m\u001b[0;34m(\u001b[0m\u001b[0;34m(\u001b[0m\u001b[0mdata\u001b[0m\u001b[0;34m,\u001b[0m \u001b[0mindices\u001b[0m\u001b[0;34m,\u001b[0m \u001b[0mindptr\u001b[0m\u001b[0;34m)\u001b[0m\u001b[0;34m,\u001b[0m \u001b[0mshape\u001b[0m\u001b[0;34m=\u001b[0m\u001b[0mself\u001b[0m\u001b[0;34m.\u001b[0m\u001b[0mshape\u001b[0m\u001b[0;34m)\u001b[0m\u001b[0;34m\u001b[0m\u001b[0;34m\u001b[0m\u001b[0m\n\u001b[0;32m-> 1248\u001b[0;31m         \u001b[0mA\u001b[0m\u001b[0;34m.\u001b[0m\u001b[0mprune\u001b[0m\u001b[0;34m(\u001b[0m\u001b[0;34m)\u001b[0m\u001b[0;34m\u001b[0m\u001b[0;34m\u001b[0m\u001b[0m\n\u001b[0m\u001b[1;32m   1249\u001b[0m \u001b[0;34m\u001b[0m\u001b[0m\n\u001b[1;32m   1250\u001b[0m         \u001b[0;32mreturn\u001b[0m \u001b[0mA\u001b[0m\u001b[0;34m\u001b[0m\u001b[0;34m\u001b[0m\u001b[0m\n",
      "\u001b[0;32m/opt/conda/lib/python3.7/site-packages/scipy/sparse/compressed.py\u001b[0m in \u001b[0;36mprune\u001b[0;34m(self)\u001b[0m\n\u001b[1;32m   1153\u001b[0m         \u001b[0;32mif\u001b[0m \u001b[0mlen\u001b[0m\u001b[0;34m(\u001b[0m\u001b[0mself\u001b[0m\u001b[0;34m.\u001b[0m\u001b[0mindptr\u001b[0m\u001b[0;34m)\u001b[0m \u001b[0;34m!=\u001b[0m \u001b[0mmajor_dim\u001b[0m \u001b[0;34m+\u001b[0m \u001b[0;36m1\u001b[0m\u001b[0;34m:\u001b[0m\u001b[0;34m\u001b[0m\u001b[0;34m\u001b[0m\u001b[0m\n\u001b[1;32m   1154\u001b[0m             \u001b[0;32mraise\u001b[0m \u001b[0mValueError\u001b[0m\u001b[0;34m(\u001b[0m\u001b[0;34m'index pointer has invalid length'\u001b[0m\u001b[0;34m)\u001b[0m\u001b[0;34m\u001b[0m\u001b[0;34m\u001b[0m\u001b[0m\n\u001b[0;32m-> 1155\u001b[0;31m         \u001b[0;32mif\u001b[0m \u001b[0mlen\u001b[0m\u001b[0;34m(\u001b[0m\u001b[0mself\u001b[0m\u001b[0;34m.\u001b[0m\u001b[0mindices\u001b[0m\u001b[0;34m)\u001b[0m \u001b[0;34m<\u001b[0m \u001b[0mself\u001b[0m\u001b[0;34m.\u001b[0m\u001b[0mnnz\u001b[0m\u001b[0;34m:\u001b[0m\u001b[0;34m\u001b[0m\u001b[0;34m\u001b[0m\u001b[0m\n\u001b[0m\u001b[1;32m   1156\u001b[0m             \u001b[0;32mraise\u001b[0m \u001b[0mValueError\u001b[0m\u001b[0;34m(\u001b[0m\u001b[0;34m'indices array has fewer than nnz elements'\u001b[0m\u001b[0;34m)\u001b[0m\u001b[0;34m\u001b[0m\u001b[0;34m\u001b[0m\u001b[0m\n\u001b[1;32m   1157\u001b[0m         \u001b[0;32mif\u001b[0m \u001b[0mlen\u001b[0m\u001b[0;34m(\u001b[0m\u001b[0mself\u001b[0m\u001b[0;34m.\u001b[0m\u001b[0mdata\u001b[0m\u001b[0;34m)\u001b[0m \u001b[0;34m<\u001b[0m \u001b[0mself\u001b[0m\u001b[0;34m.\u001b[0m\u001b[0mnnz\u001b[0m\u001b[0;34m:\u001b[0m\u001b[0;34m\u001b[0m\u001b[0;34m\u001b[0m\u001b[0m\n",
      "\u001b[0;32m/opt/conda/lib/python3.7/site-packages/scipy/sparse/base.py\u001b[0m in \u001b[0;36mnnz\u001b[0;34m(self)\u001b[0m\n\u001b[1;32m    244\u001b[0m         \u001b[0mcount_nonzero\u001b[0m \u001b[0;34m:\u001b[0m \u001b[0mNumber\u001b[0m \u001b[0mof\u001b[0m \u001b[0mnon\u001b[0m\u001b[0;34m-\u001b[0m\u001b[0mzero\u001b[0m \u001b[0mentries\u001b[0m\u001b[0;34m\u001b[0m\u001b[0;34m\u001b[0m\u001b[0m\n\u001b[1;32m    245\u001b[0m         \"\"\"\n\u001b[0;32m--> 246\u001b[0;31m         \u001b[0;32mreturn\u001b[0m \u001b[0mself\u001b[0m\u001b[0;34m.\u001b[0m\u001b[0mgetnnz\u001b[0m\u001b[0;34m(\u001b[0m\u001b[0;34m)\u001b[0m\u001b[0;34m\u001b[0m\u001b[0;34m\u001b[0m\u001b[0m\n\u001b[0m\u001b[1;32m    247\u001b[0m \u001b[0;34m\u001b[0m\u001b[0m\n\u001b[1;32m    248\u001b[0m     \u001b[0;32mdef\u001b[0m \u001b[0mgetformat\u001b[0m\u001b[0;34m(\u001b[0m\u001b[0mself\u001b[0m\u001b[0;34m)\u001b[0m\u001b[0;34m:\u001b[0m\u001b[0;34m\u001b[0m\u001b[0;34m\u001b[0m\u001b[0m\n",
      "\u001b[0;32m/opt/conda/lib/python3.7/site-packages/scipy/sparse/compressed.py\u001b[0m in \u001b[0;36mgetnnz\u001b[0;34m(self, axis)\u001b[0m\n\u001b[1;32m    108\u001b[0m     \u001b[0;32mdef\u001b[0m \u001b[0mgetnnz\u001b[0m\u001b[0;34m(\u001b[0m\u001b[0mself\u001b[0m\u001b[0;34m,\u001b[0m \u001b[0maxis\u001b[0m\u001b[0;34m=\u001b[0m\u001b[0;32mNone\u001b[0m\u001b[0;34m)\u001b[0m\u001b[0;34m:\u001b[0m\u001b[0;34m\u001b[0m\u001b[0;34m\u001b[0m\u001b[0m\n\u001b[1;32m    109\u001b[0m         \u001b[0;32mif\u001b[0m \u001b[0maxis\u001b[0m \u001b[0;32mis\u001b[0m \u001b[0;32mNone\u001b[0m\u001b[0;34m:\u001b[0m\u001b[0;34m\u001b[0m\u001b[0;34m\u001b[0m\u001b[0m\n\u001b[0;32m--> 110\u001b[0;31m             \u001b[0;32mreturn\u001b[0m \u001b[0mint\u001b[0m\u001b[0;34m(\u001b[0m\u001b[0mself\u001b[0m\u001b[0;34m.\u001b[0m\u001b[0mindptr\u001b[0m\u001b[0;34m[\u001b[0m\u001b[0;34m-\u001b[0m\u001b[0;36m1\u001b[0m\u001b[0;34m]\u001b[0m\u001b[0;34m)\u001b[0m\u001b[0;34m\u001b[0m\u001b[0;34m\u001b[0m\u001b[0m\n\u001b[0m\u001b[1;32m    111\u001b[0m         \u001b[0;32melse\u001b[0m\u001b[0;34m:\u001b[0m\u001b[0;34m\u001b[0m\u001b[0;34m\u001b[0m\u001b[0m\n\u001b[1;32m    112\u001b[0m             \u001b[0;32mif\u001b[0m \u001b[0maxis\u001b[0m \u001b[0;34m<\u001b[0m \u001b[0;36m0\u001b[0m\u001b[0;34m:\u001b[0m\u001b[0;34m\u001b[0m\u001b[0;34m\u001b[0m\u001b[0m\n",
      "\u001b[0;31mKeyboardInterrupt\u001b[0m: "
     ]
    }
   ],
   "source": [
    "# learning\n",
    "torch.cuda.empty_cache()\n",
    "best_val_f1 = 0\n",
    "for epoch in range(EPOCHS):\n",
    "    train_loss_list = []\n",
    "    train_f1_list = []\n",
    "    train_acc_list = []\n",
    "    # compare to sklearn f-1 score\n",
    "    train_skl_f1_list = []\n",
    "\n",
    "    # training process\n",
    "    for x, y in tqdm(train_tuned_loader):\n",
    "        train_x = x.to(device)\n",
    "        train_y = y.to(device)\n",
    "\n",
    "        train_pred = model(train_x)\n",
    "        train_loss = loss(train_pred, train_y)\n",
    "\n",
    "        optm.zero_grad()\n",
    "        train_loss.backward()\n",
    "        optm.step()\n",
    "\n",
    "        train_pred_class = torch.max(train_pred, 1)[1]\n",
    "        train_acc = torch.sum(train_pred_class == train_y).item() / len(train_y)\n",
    "        train_f1 = metric_f1loss(train_y, train_pred)\n",
    "\n",
    "        train_loss_list.append(train_loss.item())\n",
    "        train_f1_list.append(train_f1)\n",
    "        train_acc_list.append(train_acc)\n",
    "\n",
    "        # compare to sklearn f-1 score\n",
    "        a=F.one_hot(train_y, num_classes=18).cpu().numpy()\n",
    "        b=F.one_hot(train_pred_class, num_classes=18).cpu().numpy()\n",
    "        train_skl_f1_list.append(f1_score(a, b, average='macro', labels=np.unique(b)))\n",
    "    \n",
    "    # evaluate process for train, val split data\n",
    "    if TESTSIZE != 0:\n",
    "        if (epoch % PRINTEVERY == 0) or (epoch == EPOCHS-1):\n",
    "            val_loss_list = []\n",
    "            val_f1_list = []\n",
    "            val_acc_list = []\n",
    "            # compare to sklearn f-1 score\n",
    "            val_skl_f1_list = []\n",
    "\n",
    "            with torch.no_grad():\n",
    "                model.eval()\n",
    "                for x, y in val_loader:\n",
    "                    val_x = x.to(device)\n",
    "                    val_y = y.to(device)\n",
    "\n",
    "                    val_pred = model(val_x)\n",
    "                    val_loss = loss(val_pred, val_y)\n",
    "\n",
    "                    val_pred_class = torch.max(val_pred, 1)[1]\n",
    "                    val_acc = torch.sum(val_pred_class == val_y).item() / len(val_y)\n",
    "                    val_f1 = metric_f1loss(val_y, val_pred)\n",
    "\n",
    "                    val_loss_list.append(val_loss.item())\n",
    "                    val_f1_list.append(val_f1)\n",
    "                    val_acc_list.append(val_acc)\n",
    "\n",
    "                    # compare to sklearn f-1 score\n",
    "                    a=F.one_hot(val_y, num_classes=18).cpu().numpy()\n",
    "                    b=F.one_hot(val_pred_class, num_classes=18).cpu().numpy()\n",
    "                    val_skl_f1_list.append(f1_score(a, b, average='macro', labels=np.unique(b)))\n",
    "\n",
    "            model.train()\n",
    "\n",
    "            final_val_f1 = np.mean(val_f1_list)\n",
    "\n",
    "            print(f'* Epoch : {epoch}')\n",
    "            print(f'mean train loss : {np.mean(train_loss_list):.3f}, mean train f1 : {np.mean(train_f1_list):.3f}, mean train acc : {np.mean(train_acc_list):.3f}')\n",
    "            print(f'       val loss : {np.mean(val_loss_list):.3f},        val f1 : {final_val_f1:.3f},        val acc : {np.mean(val_acc_list):.3f}')\n",
    "\n",
    "            # compare to sklearn f-1 score\n",
    "            print(f'sklearn train f1 : {np.mean(train_skl_f1_list):.3f}, sklearn val f1 : {np.mean(val_skl_f1_list):.3f}\\n')\n",
    "\n",
    "        # save model\n",
    "        if final_val_f1 > 0.5: # and final_val_f1 > best_val_f1-0.003:\n",
    "            if final_val_f1 > best_val_f1:\n",
    "                best_val_f1 = final_val_f1\n",
    "\n",
    "            save_folder = f'models/{MODELNAME}'\n",
    "            model_name = f'{epoch:0>2}_{np.mean(train_f1_list):.3f}_{np.mean(val_f1_list):.3f}_{np.mean(val_skl_f1_list):.3f}'\n",
    "            save_path = f'{save_folder}/{model_name}.pth'\n",
    "            torch.save(model.state_dict(), save_path)\n",
    "            print(f'Saved models : {save_path}\\n')\n",
    "    \n",
    "    # save model for training set using all data\n",
    "    elif TESTSIZE == 0: \n",
    "        save_folder = f'models/{MODELNAME}'\n",
    "        model_name = f'{epoch:0>2}_alltraining'\n",
    "        save_path = f'{save_folder}/{model_name}.pth'\n",
    "        torch.save(model.state_dict(), save_path)\n",
    "        print(f'Saved models : {save_path}\\n')"
   ]
  },
  {
   "cell_type": "code",
   "execution_count": 29,
   "id": "swiss-simpson",
   "metadata": {},
   "outputs": [
    {
     "data": {
      "text/plain": [
       "6201"
      ]
     },
     "execution_count": 29,
     "metadata": {},
     "output_type": "execute_result"
    }
   ],
   "source": [
    "import gc \n",
    "gc.collect()"
   ]
  },
  {
   "cell_type": "code",
   "execution_count": 18,
   "id": "devoted-powell",
   "metadata": {},
   "outputs": [
    {
     "name": "stdout",
     "output_type": "stream",
     "text": [
      "Thu Apr  8 02:10:45 2021       \n",
      "+-----------------------------------------------------------------------------+\n",
      "| NVIDIA-SMI 418.67       Driver Version: 418.67       CUDA Version: 10.1     |\n",
      "|-------------------------------+----------------------+----------------------+\n",
      "| GPU  Name        Persistence-M| Bus-Id        Disp.A | Volatile Uncorr. ECC |\n",
      "| Fan  Temp  Perf  Pwr:Usage/Cap|         Memory-Usage | GPU-Util  Compute M. |\n",
      "|===============================+======================+======================|\n",
      "|   0  Tesla V100-PCIE...  On   | 00000000:00:05.0 Off |                  Off |\n",
      "| N/A   34C    P0    42W / 250W |  32467MiB / 32480MiB |      0%      Default |\n",
      "+-------------------------------+----------------------+----------------------+\n",
      "                                                                               \n",
      "+-----------------------------------------------------------------------------+\n",
      "| Processes:                                                       GPU Memory |\n",
      "|  GPU       PID   Type   Process name                             Usage      |\n",
      "|=============================================================================|\n",
      "+-----------------------------------------------------------------------------+\n"
     ]
    }
   ],
   "source": [
    "!nvidia-smi"
   ]
  },
  {
   "cell_type": "code",
   "execution_count": 55,
   "id": "received-mileage",
   "metadata": {
    "tags": []
   },
   "outputs": [
    {
     "name": "stdout",
     "output_type": "stream",
     "text": [
      "*fold : 0\n"
     ]
    },
    {
     "name": "stderr",
     "output_type": "stream",
     "text": [
      "  1%|          | 3/442 [00:01<04:30,  1.62it/s]\n"
     ]
    },
    {
     "ename": "KeyboardInterrupt",
     "evalue": "",
     "output_type": "error",
     "traceback": [
      "\u001b[0;31m---------------------------------------------------------------------------\u001b[0m",
      "\u001b[0;31mKeyboardInterrupt\u001b[0m                         Traceback (most recent call last)",
      "\u001b[0;32m<ipython-input-55-9b69f1de024c>\u001b[0m in \u001b[0;36m<module>\u001b[0;34m\u001b[0m\n\u001b[1;32m     65\u001b[0m             \u001b[0moptm\u001b[0m\u001b[0;34m.\u001b[0m\u001b[0mzero_grad\u001b[0m\u001b[0;34m(\u001b[0m\u001b[0;34m)\u001b[0m\u001b[0;34m\u001b[0m\u001b[0;34m\u001b[0m\u001b[0m\n\u001b[1;32m     66\u001b[0m             \u001b[0mtrain_loss\u001b[0m\u001b[0;34m.\u001b[0m\u001b[0mbackward\u001b[0m\u001b[0;34m(\u001b[0m\u001b[0;34m)\u001b[0m\u001b[0;34m\u001b[0m\u001b[0;34m\u001b[0m\u001b[0m\n\u001b[0;32m---> 67\u001b[0;31m             \u001b[0moptm\u001b[0m\u001b[0;34m.\u001b[0m\u001b[0mstep\u001b[0m\u001b[0;34m(\u001b[0m\u001b[0;34m)\u001b[0m\u001b[0;34m\u001b[0m\u001b[0;34m\u001b[0m\u001b[0m\n\u001b[0m\u001b[1;32m     68\u001b[0m \u001b[0;34m\u001b[0m\u001b[0m\n\u001b[1;32m     69\u001b[0m             \u001b[0mtrain_pred_class\u001b[0m \u001b[0;34m=\u001b[0m \u001b[0mtorch\u001b[0m\u001b[0;34m.\u001b[0m\u001b[0mmax\u001b[0m\u001b[0;34m(\u001b[0m\u001b[0mtrain_pred\u001b[0m\u001b[0;34m,\u001b[0m \u001b[0;36m1\u001b[0m\u001b[0;34m)\u001b[0m\u001b[0;34m[\u001b[0m\u001b[0;36m1\u001b[0m\u001b[0;34m]\u001b[0m\u001b[0;34m\u001b[0m\u001b[0;34m\u001b[0m\u001b[0m\n",
      "\u001b[0;32m/opt/conda/lib/python3.7/site-packages/torch/autograd/grad_mode.py\u001b[0m in \u001b[0;36mdecorate_context\u001b[0;34m(*args, **kwargs)\u001b[0m\n\u001b[1;32m     13\u001b[0m         \u001b[0;32mdef\u001b[0m \u001b[0mdecorate_context\u001b[0m\u001b[0;34m(\u001b[0m\u001b[0;34m*\u001b[0m\u001b[0margs\u001b[0m\u001b[0;34m,\u001b[0m \u001b[0;34m**\u001b[0m\u001b[0mkwargs\u001b[0m\u001b[0;34m)\u001b[0m\u001b[0;34m:\u001b[0m\u001b[0;34m\u001b[0m\u001b[0;34m\u001b[0m\u001b[0m\n\u001b[1;32m     14\u001b[0m             \u001b[0;32mwith\u001b[0m \u001b[0mself\u001b[0m\u001b[0;34m:\u001b[0m\u001b[0;34m\u001b[0m\u001b[0;34m\u001b[0m\u001b[0m\n\u001b[0;32m---> 15\u001b[0;31m                 \u001b[0;32mreturn\u001b[0m \u001b[0mfunc\u001b[0m\u001b[0;34m(\u001b[0m\u001b[0;34m*\u001b[0m\u001b[0margs\u001b[0m\u001b[0;34m,\u001b[0m \u001b[0;34m**\u001b[0m\u001b[0mkwargs\u001b[0m\u001b[0;34m)\u001b[0m\u001b[0;34m\u001b[0m\u001b[0;34m\u001b[0m\u001b[0m\n\u001b[0m\u001b[1;32m     16\u001b[0m         \u001b[0;32mreturn\u001b[0m \u001b[0mdecorate_context\u001b[0m\u001b[0;34m\u001b[0m\u001b[0;34m\u001b[0m\u001b[0m\n\u001b[1;32m     17\u001b[0m \u001b[0;34m\u001b[0m\u001b[0m\n",
      "\u001b[0;32m/opt/conda/lib/python3.7/site-packages/torch/optim/adam.py\u001b[0m in \u001b[0;36mstep\u001b[0;34m(self, closure)\u001b[0m\n\u001b[1;32m     97\u001b[0m \u001b[0;34m\u001b[0m\u001b[0m\n\u001b[1;32m     98\u001b[0m                 \u001b[0;31m# Decay the first and second moment running average coefficient\u001b[0m\u001b[0;34m\u001b[0m\u001b[0;34m\u001b[0m\u001b[0;34m\u001b[0m\u001b[0m\n\u001b[0;32m---> 99\u001b[0;31m                 \u001b[0mexp_avg\u001b[0m\u001b[0;34m.\u001b[0m\u001b[0mmul_\u001b[0m\u001b[0;34m(\u001b[0m\u001b[0mbeta1\u001b[0m\u001b[0;34m)\u001b[0m\u001b[0;34m.\u001b[0m\u001b[0madd_\u001b[0m\u001b[0;34m(\u001b[0m\u001b[0mgrad\u001b[0m\u001b[0;34m,\u001b[0m \u001b[0malpha\u001b[0m\u001b[0;34m=\u001b[0m\u001b[0;36m1\u001b[0m \u001b[0;34m-\u001b[0m \u001b[0mbeta1\u001b[0m\u001b[0;34m)\u001b[0m\u001b[0;34m\u001b[0m\u001b[0;34m\u001b[0m\u001b[0m\n\u001b[0m\u001b[1;32m    100\u001b[0m                 \u001b[0mexp_avg_sq\u001b[0m\u001b[0;34m.\u001b[0m\u001b[0mmul_\u001b[0m\u001b[0;34m(\u001b[0m\u001b[0mbeta2\u001b[0m\u001b[0;34m)\u001b[0m\u001b[0;34m.\u001b[0m\u001b[0maddcmul_\u001b[0m\u001b[0;34m(\u001b[0m\u001b[0mgrad\u001b[0m\u001b[0;34m,\u001b[0m \u001b[0mgrad\u001b[0m\u001b[0;34m,\u001b[0m \u001b[0mvalue\u001b[0m\u001b[0;34m=\u001b[0m\u001b[0;36m1\u001b[0m \u001b[0;34m-\u001b[0m \u001b[0mbeta2\u001b[0m\u001b[0;34m)\u001b[0m\u001b[0;34m\u001b[0m\u001b[0;34m\u001b[0m\u001b[0m\n\u001b[1;32m    101\u001b[0m                 \u001b[0;32mif\u001b[0m \u001b[0mamsgrad\u001b[0m\u001b[0;34m:\u001b[0m\u001b[0;34m\u001b[0m\u001b[0;34m\u001b[0m\u001b[0m\n",
      "\u001b[0;31mKeyboardInterrupt\u001b[0m: "
     ]
    }
   ],
   "source": [
    "# k-fold learning\n",
    "skf = StratifiedKFold(n_splits=4, shuffle=True)\n",
    "\n",
    "for fold, (train_idx, val_idx) in enumerate(skf.split(class_path[:,0], class_path[:,1])):\n",
    "    print(f\"*fold : {fold}\")\n",
    "    \n",
    "    # create directory to save model by fold\n",
    "    if not os.path.isdir(f'models/{MODELNAME}/{fold}'):\n",
    "        os.makedirs(f'models/{MODELNAME}/{fold}')\n",
    "    \n",
    "    \n",
    "    # set Dataset and DataLoader\n",
    "    train_class_path = class_path[train_idx,:]\n",
    "    val_class_path = class_path[val_idx,:]\n",
    "    \n",
    "    torch.cuda.empty_cache()\n",
    "    \n",
    "    transform = get_transforms()\n",
    "    train_dataset = ImageDataset(train_class_path, transform=None, tuned=False)\n",
    "    train_dataset.set_transform(transform['train'])\n",
    "\n",
    "    val_dataset = ImageDataset(val_class_path, transform=None, tuned=False)\n",
    "    val_dataset.set_transform(transform['val'])\n",
    "    \n",
    "    train_tuned_loader = DataLoader(\n",
    "        train_dataset,\n",
    "        batch_size = BATCHSIZE,\n",
    "        num_workers = 2,\n",
    "        shuffle = True\n",
    "    )\n",
    "    val_loader = DataLoader(\n",
    "        val_dataset,\n",
    "        batch_size = BATCHSIZE,\n",
    "        num_workers = 2,\n",
    "        shuffle = True\n",
    "    )\n",
    "    \n",
    "    \n",
    "    # set pretrained model\n",
    "    model = models.resnet50(pretrained=True)\n",
    "    model.fc = nn.Linear(in_features=2048, out_features=18, bias=True)\n",
    "    model.to(device)\n",
    "\n",
    "    loss = nn.CrossEntropyLoss()\n",
    "    optm = optim.Adam(model.parameters(), lr=LR)\n",
    "    \n",
    "    \n",
    "    # learning\n",
    "    best_val_f1 = 0\n",
    "    for epoch in range(EPOCHS):\n",
    "        train_loss_list = []\n",
    "        train_f1_list = []\n",
    "        train_acc_list = []\n",
    "        # compare to sklearn f-1 score\n",
    "        train_skl_f1_list = []\n",
    "\n",
    "        # training process\n",
    "        for x, y in tqdm(train_tuned_loader):\n",
    "            train_x = x.to(device)\n",
    "            train_y = y.to(device)\n",
    "\n",
    "            train_pred = model(train_x)\n",
    "            train_loss = loss(train_pred, train_y)\n",
    "\n",
    "            optm.zero_grad()\n",
    "            train_loss.backward()\n",
    "            optm.step()\n",
    "\n",
    "            train_pred_class = torch.max(train_pred, 1)[1]\n",
    "            train_acc = torch.sum(train_pred_class == train_y).item() / len(train_y)\n",
    "            train_f1 = metric_f1loss(train_y, train_pred)\n",
    "\n",
    "            train_loss_list.append(train_loss.item())\n",
    "            train_f1_list.append(train_f1)\n",
    "            train_acc_list.append(train_acc)\n",
    "\n",
    "            # compare to sklearn f-1 score\n",
    "            a=F.one_hot(train_y, num_classes=18).cpu().numpy()\n",
    "            b=F.one_hot(train_pred_class, num_classes=18).cpu().numpy()\n",
    "            train_skl_f1_list.append(f1_score(a, b, average='macro', labels=np.unique(b)))\n",
    "\n",
    "        # inference process\n",
    "        if (epoch % PRINTEVERY == 0) or (epoch == EPOCHS-1):\n",
    "            val_loss_list = []\n",
    "            val_f1_list = []\n",
    "            val_acc_list = []\n",
    "            # compare to sklearn f-1 score\n",
    "            val_skl_f1_list = []\n",
    "\n",
    "            with torch.no_grad():\n",
    "                model.eval()\n",
    "                for x, y in val_loader:\n",
    "                    val_x = x.to(device)\n",
    "                    val_y = y.to(device)\n",
    "\n",
    "                    val_pred = model(val_x)\n",
    "                    val_loss = loss(val_pred, val_y)\n",
    "\n",
    "                    val_pred_class = torch.max(val_pred, 1)[1]\n",
    "                    val_acc = torch.sum(val_pred_class == val_y).item() / len(val_y)\n",
    "                    val_f1 = metric_f1loss(val_y, val_pred)\n",
    "\n",
    "                    val_loss_list.append(val_loss.item())\n",
    "                    val_f1_list.append(val_f1)\n",
    "                    val_acc_list.append(val_acc)\n",
    "\n",
    "                    # compare to sklearn f-1 score\n",
    "                    a=F.one_hot(val_y, num_classes=18).cpu().numpy()\n",
    "                    b=F.one_hot(val_pred_class, num_classes=18).cpu().numpy()\n",
    "                    val_skl_f1_list.append(f1_score(a, b, average='macro', labels=np.unique(b)))\n",
    "\n",
    "            model.train()\n",
    "\n",
    "            final_val_f1 = np.mean(val_f1_list)\n",
    "\n",
    "            print(f'* Epoch : {epoch}')\n",
    "            print(f'mean train loss : {np.mean(train_loss_list):.3f}, mean train f1 : {np.mean(train_f1_list):.3f}, mean train acc : {np.mean(train_acc_list):.3f}')\n",
    "            print(f'       val loss : {np.mean(val_loss_list):.3f},        val f1 : {final_val_f1:.3f},        val acc : {np.mean(val_acc_list):.3f}')\n",
    "\n",
    "            # compare to sklearn f-1 score\n",
    "            print(f'sklearn train f1 : {np.mean(train_skl_f1_list):.3f}, sklearn val f1 : {np.mean(val_skl_f1_list):.3f}\\n')\n",
    "\n",
    "        # save model\n",
    "        if final_val_f1 > best_val_f1-0.003 and final_val_f1 > 0.5:\n",
    "            if final_val_f1 > best_val_f1:\n",
    "                best_val_f1 = final_val_f1\n",
    "\n",
    "            save_folder = f'models/{MODELNAME}/{fold}'\n",
    "            model_name = f'{epoch:0>2}_{np.mean(train_f1_list):.3f}_{np.mean(val_f1_list):.3f}_{np.mean(val_skl_f1_list):.3f}'\n",
    "            save_path = f'{save_folder}/{model_name}.pth'\n",
    "            torch.save(model.state_dict(), save_path)\n",
    "            print(f'Saved models : {save_path}\\n')"
   ]
  },
  {
   "cell_type": "code",
   "execution_count": null,
   "id": "clear-cedar",
   "metadata": {},
   "outputs": [],
   "source": []
  }
 ],
 "metadata": {
  "kernelspec": {
   "display_name": "Python 3",
   "language": "python",
   "name": "python3"
  },
  "language_info": {
   "codemirror_mode": {
    "name": "ipython",
    "version": 3
   },
   "file_extension": ".py",
   "mimetype": "text/x-python",
   "name": "python",
   "nbconvert_exporter": "python",
   "pygments_lexer": "ipython3",
   "version": "3.7.7"
  }
 },
 "nbformat": 4,
 "nbformat_minor": 5
}
